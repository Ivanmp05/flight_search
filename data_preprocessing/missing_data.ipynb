import pandas as pd

# Read the appended CSV file into a DataFrame
df = pd.read_csv('modified_flights_data.csv')

import missingno as msno
msno.bar(df)
    # we want to delete the datapoints with more the 80% (<600) missing points. 
    # here we will look into each of these columns to see if there is any reason to keep them. 


